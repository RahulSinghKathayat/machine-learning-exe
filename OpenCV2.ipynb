{
 "cells": [
  {
   "cell_type": "code",
   "execution_count": 30,
   "id": "4af5c7cc-d66d-4847-8f10-bea2ccf2082d",
   "metadata": {},
   "outputs": [],
   "source": [
    "import cv2\n",
    "import numpy as np\n",
    "import os"
   ]
  },
  {
   "cell_type": "code",
   "execution_count": 29,
   "id": "46209605-8fbb-4436-bb2f-c386f1c99754",
   "metadata": {},
   "outputs": [],
   "source": [
    "import cv2\n",
    "img1 = cv2.imread(r\"C:\\Users\\dal\\Downloads\\zzm\\download.jpg\")\n",
    "img2 = cv2.imread(r\"C:\\Users\\dal\\Downloads\\zzm\\Wallpaper Zoro One Piece.jpg\")\n",
    "re_img1 =cv2.resize(img1,(500,700)) \n",
    "\n",
    "cv2.imshow(\"zzz\",img1)\n",
    "cv2.imshow(\"zzz\",re_img1)\n",
    "cv2.imshow(\"zzx\",img2)\n",
    "cv2.waitKey(0)\n",
    "\n",
    "cv2.destroyAllWindows()\n"
   ]
  },
  {
   "cell_type": "code",
   "execution_count": 21,
   "id": "bca9d2ca-7074-40e2-9c05-f21dcac295a0",
   "metadata": {},
   "outputs": [
    {
     "name": "stdout",
     "output_type": "stream",
     "text": [
      "Requirement already satisfied: opencv-python in c:\\users\\dal\\appdata\\local\\programs\\python\\python311\\lib\\site-packages (4.9.0.80)\n",
      "Requirement already satisfied: numpy>=1.21.2 in c:\\users\\dal\\appdata\\local\\programs\\python\\python311\\lib\\site-packages (from opencv-python) (1.25.2)\n",
      "Note: you may need to restart the kernel to use updated packages.\n"
     ]
    }
   ],
   "source": [
    "pip install opencv-python"
   ]
  },
  {
   "cell_type": "code",
   "execution_count": 83,
   "id": "e4c18d0d-7120-4dd3-ad06-4d3bc8956668",
   "metadata": {},
   "outputs": [
    {
     "data": {
      "text/plain": [
       "array([[1, 2, 3, 1, 2, 3],\n",
       "       [1, 2, 3, 1, 2, 3]])"
      ]
     },
     "execution_count": 83,
     "metadata": {},
     "output_type": "execute_result"
    }
   ],
   "source": [
    "v = np.array([[1,2,3,1,2,3],[1,2,3,1,2,3]])\n",
    "v"
   ]
  },
  {
   "cell_type": "code",
   "execution_count": 82,
   "id": "41c27a9e-bab4-481f-a11f-d4c15fe1460a",
   "metadata": {},
   "outputs": [
    {
     "name": "stdout",
     "output_type": "stream",
     "text": [
      "[[[30 55 71]\n",
      "  [21 46 62]\n",
      "  [13 38 54]\n",
      "  ...\n",
      "  [36 69 89]\n",
      "  [29 61 84]\n",
      "  [29 61 84]]\n",
      "\n",
      " [[27 52 68]\n",
      "  [23 48 64]\n",
      "  [20 45 61]\n",
      "  ...\n",
      "  [29 62 82]\n",
      "  [29 61 84]\n",
      "  [37 69 92]]\n",
      "\n",
      " [[25 50 66]\n",
      "  [25 50 66]\n",
      "  [23 48 64]\n",
      "  ...\n",
      "  [39 70 91]\n",
      "  [37 68 91]\n",
      "  [37 68 91]]\n",
      "\n",
      " ...\n",
      "\n",
      " [[24 51 71]\n",
      "  [31 58 78]\n",
      "  [37 64 84]\n",
      "  ...\n",
      "  [33 68 88]\n",
      "  [32 67 87]\n",
      "  [30 67 87]]\n",
      "\n",
      " [[25 52 72]\n",
      "  [32 59 79]\n",
      "  [38 65 85]\n",
      "  ...\n",
      "  [33 68 88]\n",
      "  [30 67 87]\n",
      "  [30 67 87]]\n",
      "\n",
      " [[25 54 75]\n",
      "  [32 61 82]\n",
      "  [38 68 87]\n",
      "  ...\n",
      "  [33 67 90]\n",
      "  [30 67 89]\n",
      "  [30 67 89]]]\n"
     ]
    }
   ],
   "source": [
    "img1 = cv2.imread(r\"C:\\Users\\dal\\Downloads\\zzm\\download.jpg\")\n",
    "print(img) #RGB "
   ]
  },
  {
   "cell_type": "code",
   "execution_count": 88,
   "id": "1f22134e-eb44-4eaa-8646-d4ed809c24cc",
   "metadata": {},
   "outputs": [],
   "source": [
    "import cv2\n",
    "import numpy as np\n",
    "img1 = cv2.imread(r\"C:\\Users\\dal\\Downloads\\zzm\\download.jpg\")\n",
    "img2 = cv2.imread(r\"C:\\Users\\dal\\Downloads\\zzm\\Wallpaper Zoro One Piece.jpg\")\n",
    "re_img =cv2.resize(img1,(300,500)) \n",
    "h = np.hstack((re_img,re_img))\n",
    "g = np.vstack((re_img,re_img))\n",
    "# cv2.imshow(\"zzz\",img1)\n",
    "cv2.imshow(\"zzz\",h)\n",
    "cv2.imshow(\"zzr\",g)\n",
    "# cv2.imshow(\"zzx\",img2)\n",
    "# cv2.waitKey(1000)\n",
    "cv2.waitKey(0)\n",
    "# cv2.destroyAllWindows()\n",
    "cv2.destroyAllWindows()"
   ]
  },
  {
   "cell_type": "code",
   "execution_count": 129,
   "id": "33e854d2-98f1-48ee-869f-1da96b8f210a",
   "metadata": {},
   "outputs": [],
   "source": [
    "import cv2\n",
    "import numpy as np\n",
    "img1 = cv2.imread(r\"C:\\Users\\dal\\Downloads\\zzm\\download.jpg\")\n",
    "img2 = cv2.imread(r\"C:\\Users\\dal\\Downloads\\zzm\\Wallpaper Zoro One Piece.jpg\")\n",
    "\n",
    "re_img =cv2.resize(img1,(300,350)) \n",
    "h = np.hstack((re_img,re_img,re_img,re_img))\n",
    "g = np.vstack((h,h))\n",
    "cv2.imshow(\"zzz\",g)\n",
    "cv2.waitKey(0)\n",
    "cv2.destroyAllWindows()"
   ]
  },
  {
   "cell_type": "code",
   "execution_count": 49,
   "id": "eb05d962-7190-4dab-8727-b8eac6e12a1d",
   "metadata": {},
   "outputs": [
    {
     "data": {
      "text/plain": [
       "['download.jpg', 'Wallpaper Zoro One Piece.jpg']"
      ]
     },
     "execution_count": 49,
     "metadata": {},
     "output_type": "execute_result"
    }
   ],
   "source": [
    "list_name = os.listdir(r\"C:\\Users\\dal\\Downloads\\zzm\") #OS library used\n",
    "list_name"
   ]
  },
  {
   "cell_type": "code",
   "execution_count": 81,
   "id": "76625579-5da8-4acf-af6d-892b07990cd1",
   "metadata": {},
   "outputs": [],
   "source": [
    "for name in list_name:\n",
    "    path = \"C:\\\\Users\\\\dal\\\\Downloads\\\\zzm\"\n",
    "    img_name =  path + \"\\\\\" + name\n",
    "    img = cv2.imread(img_name)\n",
    "    img = cv2.resize(img,(500,600))\n",
    "    cv2.imshow(\"Rahul\",img)\n",
    "    # cv2.waitKey(1000)\n",
    "    cv2.waitKey(0)\n",
    "cv2.destroyAllWindows()"
   ]
  },
  {
   "cell_type": "code",
   "execution_count": 78,
   "id": "7ffdca86-102f-408f-a0e1-6ebe3b3bbfa3",
   "metadata": {},
   "outputs": [
    {
     "name": "stdout",
     "output_type": "stream",
     "text": [
      "(1019, 720)\n"
     ]
    }
   ],
   "source": [
    "import cv2\n",
    "import numpy as np\n",
    "img = cv2.imread(r\"C:\\Users\\dal\\Downloads\\zzm\\download.jpg\",0)\n",
    "resize_img = cv2.resize(img,(400,600))\n",
    "cv2.imshow(\"System\",resize_img)\n",
    "cv2.waitKey(0)\n",
    "cv2.destroyAllWindows()\n",
    "print(img.shape)"
   ]
  },
  {
   "cell_type": "code",
   "execution_count": 127,
   "id": "6ce31c34-9350-46b2-b059-f12c190d650a",
   "metadata": {},
   "outputs": [
    {
     "name": "stdout",
     "output_type": "stream",
     "text": [
      "(1019, 720, 3)\n"
     ]
    }
   ],
   "source": [
    "import cv2\n",
    "import numpy as np\n",
    "img = cv2.imread(r\"C:\\Users\\dal\\Downloads\\zzm\\download.jpg\",1)\n",
    "resize_img = cv2.resize(img,(400,600))\n",
    "cv2.imshow(\"System\",resize_img)\n",
    "cv2.waitKey(0)\n",
    "cv2.destroyAllWindows()\n",
    "print(img.shape)"
   ]
  },
  {
   "cell_type": "code",
   "execution_count": 76,
   "id": "a0007ed6-b74d-40b7-b9cf-ca508f7834f9",
   "metadata": {},
   "outputs": [
    {
     "name": "stdout",
     "output_type": "stream",
     "text": [
      "(1019, 720, 3)\n"
     ]
    }
   ],
   "source": [
    "import cv2\n",
    "import numpy as np\n",
    "img = cv2.imread(r\"C:\\Users\\dal\\Downloads\\zzm\\download.jpg\",-1)\n",
    "resize_img = cv2.resize(img,(400,600))\n",
    "cv2.imshow(\"System\",resize_img)\n",
    "cv2.waitKey(0)\n",
    "cv2.destroyAllWindows()\n",
    "print(img.shape)"
   ]
  },
  {
   "cell_type": "code",
   "execution_count": 27,
   "id": "3f87cf40-2b33-4af3-b2bb-13a9b9551eef",
   "metadata": {},
   "outputs": [],
   "source": [
    "#Text over image\n",
    "import cv2\n",
    "img_get = cv2.imread(r\"C:\\Users\\dal\\Downloads\\zzm\\download.jpg\")\n",
    "re_img = cv2.resize(img_get,(450,600))\n",
    "\n",
    "\n",
    "txt = cv2.putText(img = re_img,\n",
    "text = \"ZORO\",\n",
    "org = (90,80),\n",
    "fontFace = cv2.FONT_HERSHEY_DUPLEX,\n",
    "fontScale = 3,\n",
    "color = (0,0,255),\n",
    "thickness = 3,\n",
    "lineType = cv2.LINE_8,\n",
    "bottomLeftOrigin = False)\n",
    "\n",
    "txt = cv2.putText(img = re_img,\n",
    "text = \"ZORO\",\n",
    "org = (90,90),\n",
    "fontFace = cv2.FONT_HERSHEY_DUPLEX,\n",
    "fontScale = 3,\n",
    "color = (0,0,255),\n",
    "thickness = 3,\n",
    "lineType = cv2.LINE_8,\n",
    "bottomLeftOrigin = True)\n",
    "\n",
    "\n",
    "cv2.imshow(\"rahul\",re_img)\n",
    "cv2.waitKey(0)\n",
    "cv2.destroyAllWindows()\n"
   ]
  },
  {
   "cell_type": "code",
   "execution_count": 42,
   "id": "4678e426-6a6d-4565-96e8-900d58aadad8",
   "metadata": {},
   "outputs": [],
   "source": [
    "#Line and Box to an image\n",
    "import cv2\n",
    "old_img = cv2.imread(r\"C:\\Users\\dal\\Downloads\\zzm\\download.jpg\")\n",
    "old_img = cv2.resize(old_img,(300,500))\n",
    "\n",
    "new_img = cv2.line(img = old_img, pt1=(50,120), pt2=(250,120), color=(0,0,255), thickness=4,lineType=4)\n",
    "\n",
    "cv2.imshow(\"Nitsss\",old_img)\n",
    "cv2.waitKey(0)\n",
    "cv2.destroyAllWindows()"
   ]
  },
  {
   "cell_type": "code",
   "execution_count": 17,
   "id": "c42a1898-6bf3-46f8-bcd8-12448af91186",
   "metadata": {},
   "outputs": [],
   "source": [
    "#Line and Box to an image\n",
    "import cv2\n",
    "old_img = cv2.imread(r\"C:\\Users\\dal\\Downloads\\zzm\\download.jpg\")\n",
    "old_img = cv2.resize(old_img,(300,500))\n",
    "\n",
    "new_img = cv2.rectangle(img = old_img, pt1=(50,100), pt2=(250,320), color=(0,0,255), thickness=4,lineType=16)\n",
    "\n",
    "txt = cv2.putText(img = old_img,\n",
    "text = \"ZORO\",\n",
    "org = (45,80),\n",
    "fontFace = cv2.FONT_HERSHEY_DUPLEX,\n",
    "fontScale = 1,\n",
    "color = (0,0,255),\n",
    "thickness = 3,\n",
    "lineType = cv2.LINE_8,\n",
    "bottomLeftOrigin = False)\n",
    "\n",
    "#Inverted Text//\n",
    "\n",
    "# txt = cv2.putText(img = old_img,\n",
    "# text = \"ZORO\",\n",
    "# org = (30,90),\n",
    "# fontFace = cv2.FONT_HERSHEY_DUPLEX,\n",
    "# fontScale = 3,\n",
    "# color = (0,0,255),\n",
    "# thickness = 3,\n",
    "# lineType = cv2.LINE_8,\n",
    "# bottomLeftOrigin = True)\n",
    "\n",
    "cv2.imshow(\"Nitsss\",old_img)\n",
    "cv2.imshow(\"Nitsss\",old_img)\n",
    "cv2.waitKey(0)\n",
    "cv2.destroyAllWindows()"
   ]
  },
  {
   "cell_type": "code",
   "execution_count": 1,
   "id": "83f3339d-95e1-4ef1-807c-696128c3e609",
   "metadata": {},
   "outputs": [],
   "source": [
    "# Circle and Ellipse on Image\n",
    "import cv2\n",
    "img2 = cv2.imread(r\"C:\\Users\\dal\\Downloads\\zzm\\Wallpaper Zoro One Piece.jpg\")\n",
    "re_img =cv2.resize(img2,(300,500)) \n",
    "\n",
    "# CIRCLE \n",
    "img_cir = cv2.circle(img = re_img, center = (140,250), radius=70, color=(500,200,255), thickness=8, lineType=16)\n",
    "# ELLIPSE\n",
    "img_elp = cv2.ellipse(img =img_cir,center = (140,250),axes =(50,100),angle=0,startAngle =0,endAngle=360,color=(0,0,255),thickness=8,lineType=16)\n",
    "cv2.imshow(\"zzz\",img_elp)\n",
    "cv2.imshow(\"zzz\",img_cir)\n",
    "cv2.waitKey(0)\n",
    "cv2.destroyAllWindows()"
   ]
  },
  {
   "cell_type": "code",
   "execution_count": 31,
   "id": "3edefb40-9468-4032-9a5c-a8f5ecd0b270",
   "metadata": {},
   "outputs": [],
   "source": [
    "import cv2\n",
    "import numpy as np\n",
    "\n",
    "img2 = cv2.imread(r\"C:\\Users\\dal\\Downloads\\zzm\\Wallpaper Zoro One Piece.jpg\")\n",
    "re_img =cv2.resize(img2,(300,500)) \n",
    "\n",
    "new_img = cv2.polylines(img = re_img, pts = [np.array([[100,200],[50,350],[300,300],[200,100],[180,200]])], isClosed = True, \n",
    "                        color = (0,0,255), thickness=4,lineType=16)\n",
    "cv2.imshow(\"qq\",new_img)\n",
    "\n",
    "cv2.waitKey(0)\n",
    "cv2.destroyAllWindows()"
   ]
  },
  {
   "cell_type": "code",
   "execution_count": 58,
   "id": "4bf63e4b-7366-49f4-b821-80bd0bc8b93f",
   "metadata": {},
   "outputs": [],
   "source": [
    "#BLuring on Images\n",
    "\n",
    "img=cv2.imread(r\"C:\\Users\\dal\\Downloads\\zzm\\Wallpaper Zoro One Piece.jpg\")\n",
    "resize_img=cv2.resize(img,(300,500))\n",
    "\n",
    "A = cv2.GaussianBlur(resize_img,(7,7),0)\n",
    "B = cv2.medianBlur(resize_img,3)\n",
    "D = cv2.bilateralFilter(resize_img,9,75,75)\n",
    "\n",
    "C = np.hstack((resize_img,A,B,D))\n",
    "\n",
    "cv2.imshow(\"A\",C)\n",
    "\n",
    "cv2.waitKey(0)\n",
    "cv2.destroyAllWindows()"
   ]
  },
  {
   "cell_type": "code",
   "execution_count": 70,
   "id": "5f204bfb-bfe1-42e0-8545-5cb565c7ed97",
   "metadata": {},
   "outputs": [
    {
     "ename": "error",
     "evalue": "OpenCV(4.9.0) D:\\a\\opencv-python\\opencv-python\\opencv\\modules\\imgproc\\src\\resize.cpp:4152: error: (-215:Assertion failed) !ssize.empty() in function 'cv::resize'\n",
     "output_type": "error",
     "traceback": [
      "\u001b[1;31m---------------------------------------------------------------------------\u001b[0m",
      "\u001b[1;31merror\u001b[0m                                     Traceback (most recent call last)",
      "Cell \u001b[1;32mIn[70], line 5\u001b[0m\n\u001b[0;32m      3\u001b[0m \u001b[38;5;28;01mimport\u001b[39;00m \u001b[38;5;21;01mnumpy\u001b[39;00m \u001b[38;5;28;01mas\u001b[39;00m \u001b[38;5;21;01mnp\u001b[39;00m\n\u001b[0;32m      4\u001b[0m img\u001b[38;5;241m=\u001b[39mcv2\u001b[38;5;241m.\u001b[39mimread(\u001b[38;5;124mr\u001b[39m\u001b[38;5;124m\"\u001b[39m\u001b[38;5;124mC:\u001b[39m\u001b[38;5;124m\\\u001b[39m\u001b[38;5;124mUsers\u001b[39m\u001b[38;5;124m\\\u001b[39m\u001b[38;5;124mdal\u001b[39m\u001b[38;5;124m\\\u001b[39m\u001b[38;5;124mDownloads\u001b[39m\u001b[38;5;124m\\\u001b[39m\u001b[38;5;124mzzm\u001b[39m\u001b[38;5;124m\\\u001b[39m\u001b[38;5;124mWallpaper Zoro One Piece.jpg\u001b[39m\u001b[38;5;124m\"\u001b[39m)\n\u001b[1;32m----> 5\u001b[0m resize_img\u001b[38;5;241m=\u001b[39m\u001b[43mcv2\u001b[49m\u001b[38;5;241;43m.\u001b[39;49m\u001b[43mresize\u001b[49m\u001b[43m(\u001b[49m\u001b[43mimg\u001b[49m\u001b[43m,\u001b[49m\u001b[43m(\u001b[49m\u001b[38;5;241;43m300\u001b[39;49m\u001b[43m,\u001b[49m\u001b[38;5;241;43m500\u001b[39;49m\u001b[43m)\u001b[49m\u001b[43m)\u001b[49m\n\u001b[0;32m      6\u001b[0m A \u001b[38;5;241m=\u001b[39m resize_img\n\u001b[0;32m      8\u001b[0m h \u001b[38;5;241m=\u001b[39m np\u001b[38;5;241m.\u001b[39mhstack((A,A,A))\n",
      "\u001b[1;31merror\u001b[0m: OpenCV(4.9.0) D:\\a\\opencv-python\\opencv-python\\opencv\\modules\\imgproc\\src\\resize.cpp:4152: error: (-215:Assertion failed) !ssize.empty() in function 'cv::resize'\n"
     ]
    }
   ],
   "source": [
    "#imwrite function in OpenCV (to save edited images)\n",
    "import cv2\n",
    "import numpy as np\n",
    "img=cv2.imread(r\"C:\\Users\\dal\\Downloads\\zzm\\Wallpaper Zoro One Piece.jpg\")\n",
    "resize_img=cv2.resize(img,(300,500))\n",
    "A = resize_img\n",
    "\n",
    "h = np.hstack((A,A,A))\n",
    "v = np.vstack((h,h))\n",
    "\n",
    "cv2.imwrite(r\"C:\\Users\\dal\\Downloads\\zzm\\Wallpaper Zoro One Piece.jpg\",v)\n",
    "cv2.imshow(\"A\",v)\n",
    "\n",
    "cv2.waitKey(0)\n",
    "cv2.destroyAllWindows()"
   ]
  }
 ],
 "metadata": {
  "kernelspec": {
   "display_name": "Python 3 (ipykernel)",
   "language": "python",
   "name": "python3"
  },
  "language_info": {
   "codemirror_mode": {
    "name": "ipython",
    "version": 3
   },
   "file_extension": ".py",
   "mimetype": "text/x-python",
   "name": "python",
   "nbconvert_exporter": "python",
   "pygments_lexer": "ipython3",
   "version": "3.11.4"
  }
 },
 "nbformat": 4,
 "nbformat_minor": 5
}
